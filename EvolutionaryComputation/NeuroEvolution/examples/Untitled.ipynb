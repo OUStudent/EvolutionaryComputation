{
 "cells": [
  {
   "cell_type": "markdown",
   "id": "1c22bc1c",
   "metadata": {},
   "source": [
    "# NeuroReinforcer - Reinforcement Learning Example"
   ]
  },
  {
   "cell_type": "code",
   "execution_count": 2,
   "id": "0224ce65",
   "metadata": {},
   "outputs": [
    {
     "ename": "ModuleNotFoundError",
     "evalue": "No module named 'NeuroBase'",
     "output_type": "error",
     "traceback": [
      "\u001b[1;31m---------------------------------------------------------------------------\u001b[0m",
      "\u001b[1;31mModuleNotFoundError\u001b[0m                       Traceback (most recent call last)",
      "\u001b[1;32m~\\AppData\\Local\\Temp/ipykernel_30924/2637891646.py\u001b[0m in \u001b[0;36m<module>\u001b[1;34m\u001b[0m\n\u001b[1;32m----> 1\u001b[1;33m \u001b[1;32mimport\u001b[0m \u001b[0mEvolutionaryComputation\u001b[0m\u001b[1;33m.\u001b[0m\u001b[0mNeuroEvolution\u001b[0m \u001b[1;32mas\u001b[0m \u001b[0mne\u001b[0m\u001b[1;33m\u001b[0m\u001b[1;33m\u001b[0m\u001b[0m\n\u001b[0m",
      "\u001b[1;32mc:\\users\\bscot\\onedrive\\desktop\\evolutionarycomputation\\evolutionary computation\\EvolutionaryComputation\\NeuroEvolution\\__init__.py\u001b[0m in \u001b[0;36m<module>\u001b[1;34m\u001b[0m\n\u001b[1;32m----> 1\u001b[1;33m \u001b[1;32mfrom\u001b[0m \u001b[0mEvolutionaryComputation\u001b[0m\u001b[1;33m.\u001b[0m\u001b[0mNeuroEvolution\u001b[0m\u001b[1;33m.\u001b[0m\u001b[0mNeuroRegressor\u001b[0m \u001b[1;32mimport\u001b[0m \u001b[0mNeuroRegressor\u001b[0m\u001b[1;33m\u001b[0m\u001b[1;33m\u001b[0m\u001b[0m\n\u001b[0m\u001b[0;32m      2\u001b[0m \u001b[1;32mfrom\u001b[0m \u001b[0mEvolutionaryComputation\u001b[0m\u001b[1;33m.\u001b[0m\u001b[0mNeuroEvolution\u001b[0m\u001b[1;33m.\u001b[0m\u001b[0mNeuroClassifier\u001b[0m \u001b[1;32mimport\u001b[0m \u001b[0mNeuroClassifier\u001b[0m\u001b[1;33m\u001b[0m\u001b[1;33m\u001b[0m\u001b[0m\n\u001b[0;32m      3\u001b[0m \u001b[1;32mfrom\u001b[0m \u001b[0mEvolutionaryComputation\u001b[0m\u001b[1;33m.\u001b[0m\u001b[0mNeuroEvolution\u001b[0m\u001b[1;33m.\u001b[0m\u001b[0mNeuroAutoEncoder\u001b[0m \u001b[1;32mimport\u001b[0m \u001b[0mNeuroAutoEncoder\u001b[0m\u001b[1;33m\u001b[0m\u001b[1;33m\u001b[0m\u001b[0m\n\u001b[0;32m      4\u001b[0m \u001b[1;32mfrom\u001b[0m \u001b[0mEvolutionaryComputation\u001b[0m\u001b[1;33m.\u001b[0m\u001b[0mNeuroEvolution\u001b[0m\u001b[1;33m.\u001b[0m\u001b[0mNeuroReinforcement\u001b[0m \u001b[1;32mimport\u001b[0m \u001b[0mNeuroReinforcer\u001b[0m\u001b[1;33m\u001b[0m\u001b[1;33m\u001b[0m\u001b[0m\n\u001b[0;32m      5\u001b[0m \u001b[1;31m#from EvolutionaryComputation.NeuroEvolution.NeuroReinforcementImages import NeuroReinforcerImages\u001b[0m\u001b[1;33m\u001b[0m\u001b[1;33m\u001b[0m\u001b[1;33m\u001b[0m\u001b[0m\n",
      "\u001b[1;32mc:\\users\\bscot\\onedrive\\desktop\\evolutionarycomputation\\evolutionary computation\\EvolutionaryComputation\\NeuroEvolution\\NeuroRegressor.py\u001b[0m in \u001b[0;36m<module>\u001b[1;34m\u001b[0m\n\u001b[1;32m----> 1\u001b[1;33m \u001b[1;32mfrom\u001b[0m \u001b[0mNeuroBase\u001b[0m \u001b[1;32mimport\u001b[0m \u001b[0mNeuroBase\u001b[0m\u001b[1;33m\u001b[0m\u001b[1;33m\u001b[0m\u001b[0m\n\u001b[0m\u001b[0;32m      2\u001b[0m \u001b[1;32mfrom\u001b[0m \u001b[0mEvolutionaryComputation\u001b[0m\u001b[1;33m.\u001b[0m\u001b[0mutil\u001b[0m \u001b[1;32mimport\u001b[0m \u001b[1;33m*\u001b[0m\u001b[1;33m\u001b[0m\u001b[1;33m\u001b[0m\u001b[0m\n\u001b[0;32m      3\u001b[0m \u001b[1;33m\u001b[0m\u001b[0m\n\u001b[0;32m      4\u001b[0m \u001b[1;32mclass\u001b[0m \u001b[0mNeuroRegressor\u001b[0m\u001b[1;33m(\u001b[0m\u001b[0mNeuroBase\u001b[0m\u001b[1;33m)\u001b[0m\u001b[1;33m:\u001b[0m\u001b[1;33m\u001b[0m\u001b[1;33m\u001b[0m\u001b[0m\n\u001b[0;32m      5\u001b[0m \u001b[1;33m\u001b[0m\u001b[0m\n",
      "\u001b[1;31mModuleNotFoundError\u001b[0m: No module named 'NeuroBase'"
     ]
    }
   ],
   "source": [
    "import EvolutionaryComputation.NeuroEvolution as ne"
   ]
  },
  {
   "cell_type": "code",
   "execution_count": null,
   "id": "9da006d2",
   "metadata": {},
   "outputs": [],
   "source": []
  }
 ],
 "metadata": {
  "kernelspec": {
   "display_name": "Python 3 (ipykernel)",
   "language": "python",
   "name": "python3"
  },
  "language_info": {
   "codemirror_mode": {
    "name": "ipython",
    "version": 3
   },
   "file_extension": ".py",
   "mimetype": "text/x-python",
   "name": "python",
   "nbconvert_exporter": "python",
   "pygments_lexer": "ipython3",
   "version": "3.9.1"
  }
 },
 "nbformat": 4,
 "nbformat_minor": 5
}
