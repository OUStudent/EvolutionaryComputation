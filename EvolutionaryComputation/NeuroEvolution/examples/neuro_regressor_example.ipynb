{
 "cells": [
  {
   "cell_type": "markdown",
   "id": "784b3d1a",
   "metadata": {},
   "source": [
    "# NeuroRegressor - Multiple Regression Example"
   ]
  },
  {
   "cell_type": "code",
   "execution_count": 1,
   "id": "0a73b951",
   "metadata": {},
   "outputs": [],
   "source": [
    "import EvolutionaryComputation.NeuroEvolution as ne"
   ]
  },
  {
   "cell_type": "markdown",
   "id": "09a31f76",
   "metadata": {},
   "source": [
    "## Iris Dataset \n",
    "Goal is to predict both sepal and petal widths given their length and species"
   ]
  },
  {
   "cell_type": "code",
   "execution_count": 2,
   "id": "b80dd964",
   "metadata": {},
   "outputs": [],
   "source": [
    "from sklearn.datasets import load_iris\n",
    "from scipy.stats import zscore\n",
    "import pandas as pd\n",
    "import numpy as np"
   ]
  },
  {
   "cell_type": "code",
   "execution_count": 3,
   "id": "b04a5ed0",
   "metadata": {},
   "outputs": [
    {
     "name": "stdout",
     "output_type": "stream",
     "text": [
      ".. _iris_dataset:\n",
      "\n",
      "Iris plants dataset\n",
      "--------------------\n",
      "\n",
      "**Data Set Characteristics:**\n",
      "\n",
      "    :Number of Instances: 150 (50 in each of three classes)\n",
      "    :Number of Attributes: 4 numeric, predictive attributes and the class\n",
      "    :Attribute Information:\n",
      "        - sepal length in cm\n",
      "        - sepal width in cm\n",
      "        - petal length in cm\n",
      "        - petal width in cm\n",
      "        - class:\n",
      "                - Iris-Setosa\n",
      "                - Iris-Versicolour\n",
      "                - Iris-Virginica\n",
      "                \n",
      "    :Summary Statistics:\n",
      "\n",
      "    ============== ==== ==== ======= ===== ====================\n",
      "                    Min  Max   Mean    SD   Class Correlation\n",
      "    ============== ==== ==== ======= ===== ====================\n",
      "    sepal length:   4.3  7.9   5.84   0.83    0.7826\n",
      "    sepal width:    2.0  4.4   3.05   0.43   -0.4194\n",
      "    petal length:   1.0  6.9   3.76   1.76    0.9490  (high!)\n",
      "    petal width:    0.1  2.5   1.20   0.76    0.9565  (high!)\n",
      "    ============== ==== ==== ======= ===== ====================\n",
      "\n",
      "    :Missing Attribute Values: None\n",
      "    :Class Distribution: 33.3% for each of 3 classes.\n",
      "    :Creator: R.A. Fisher\n",
      "    :Donor: Michael Marshall (MARSHALL%PLU@io.arc.nasa.gov)\n",
      "    :Date: July, 1988\n",
      "\n",
      "The famous Iris database, first used by Sir R.A. Fisher. The dataset is taken\n",
      "from Fisher's paper. Note that it's the same as in R, but not as in the UCI\n",
      "Machine Learning Repository, which has two wrong data points.\n",
      "\n",
      "This is perhaps the best known database to be found in the\n",
      "pattern recognition literature.  Fisher's paper is a classic in the field and\n",
      "is referenced frequently to this day.  (See Duda & Hart, for example.)  The\n",
      "data set contains 3 classes of 50 instances each, where each class refers to a\n",
      "type of iris plant.  One class is linearly separable from the other 2; the\n",
      "latter are NOT linearly separable from each other.\n",
      "\n",
      ".. topic:: References\n",
      "\n",
      "   - Fisher, R.A. \"The use of multiple measurements in taxonomic problems\"\n",
      "     Annual Eugenics, 7, Part II, 179-188 (1936); also in \"Contributions to\n",
      "     Mathematical Statistics\" (John Wiley, NY, 1950).\n",
      "   - Duda, R.O., & Hart, P.E. (1973) Pattern Classification and Scene Analysis.\n",
      "     (Q327.D83) John Wiley & Sons.  ISBN 0-471-22361-1.  See page 218.\n",
      "   - Dasarathy, B.V. (1980) \"Nosing Around the Neighborhood: A New System\n",
      "     Structure and Classification Rule for Recognition in Partially Exposed\n",
      "     Environments\".  IEEE Transactions on Pattern Analysis and Machine\n",
      "     Intelligence, Vol. PAMI-2, No. 1, 67-71.\n",
      "   - Gates, G.W. (1972) \"The Reduced Nearest Neighbor Rule\".  IEEE Transactions\n",
      "     on Information Theory, May 1972, 431-433.\n",
      "   - See also: 1988 MLC Proceedings, 54-64.  Cheeseman et al\"s AUTOCLASS II\n",
      "     conceptual clustering system finds 3 classes in the data.\n",
      "   - Many, many more ...\n"
     ]
    }
   ],
   "source": [
    "iris = load_iris()\n",
    "print(iris.DESCR)"
   ]
  },
  {
   "cell_type": "markdown",
   "id": "d03cc399",
   "metadata": {},
   "source": [
    "# Preprocessing"
   ]
  },
  {
   "cell_type": "code",
   "execution_count": 4,
   "id": "977c5334",
   "metadata": {},
   "outputs": [],
   "source": [
    "# number of observations\n",
    "n = len(iris.data)\n",
    "\n",
    "# create indices\n",
    "ind = np.asarray(range(0, n))\n",
    "# shuffle\n",
    "np.random.shuffle(ind)\n",
    "\n",
    "# percentages\n",
    "train = 0.6  \n",
    "val = 0.8 \n",
    "\n",
    "# train, val, test indices\n",
    "train_ind = ind[0:int(train*n)]  # train is 60% of data\n",
    "val_ind = ind[int(train*n):int(val*n)]  # validation is 20% of data\n",
    "test_ind = ind[int(val*n):n]  # test is 20% of data"
   ]
  },
  {
   "cell_type": "code",
   "execution_count": 5,
   "id": "7418984e",
   "metadata": {},
   "outputs": [],
   "source": [
    "x = pd.DataFrame(iris.data, columns = iris.feature_names)\n",
    "# convert to numpy array\n",
    "x = np.asarray(x)\n",
    "\n",
    "# scale between 0 and 1\n",
    "mx = np.max(x, axis=0)\n",
    "mn = np.min(x, axis=0)\n",
    "x = (x-mn)/(mx-mn)\n",
    "\n",
    "# rewrite x for features and y for targets\n",
    "x = np.hstack((x, np.asarray(pd.get_dummies(iris['target']))))\n",
    "y = x[:, [0, 2]]\n",
    "x = x[:, [1, 3, 4, 5, 6]]"
   ]
  },
  {
   "cell_type": "code",
   "execution_count": 6,
   "id": "db82b228",
   "metadata": {},
   "outputs": [
    {
     "data": {
      "text/plain": [
       "array([[0.625     , 0.04166667, 1.        , 0.        , 0.        ],\n",
       "       [0.41666667, 0.04166667, 1.        , 0.        , 0.        ],\n",
       "       [0.5       , 0.04166667, 1.        , 0.        , 0.        ],\n",
       "       [0.45833333, 0.04166667, 1.        , 0.        , 0.        ],\n",
       "       [0.66666667, 0.04166667, 1.        , 0.        , 0.        ]])"
      ]
     },
     "execution_count": 6,
     "metadata": {},
     "output_type": "execute_result"
    }
   ],
   "source": [
    "x[0:5]"
   ]
  },
  {
   "cell_type": "code",
   "execution_count": 7,
   "id": "04c25ed2",
   "metadata": {},
   "outputs": [
    {
     "data": {
      "text/plain": [
       "array([[0.22222222, 0.06779661],\n",
       "       [0.16666667, 0.06779661],\n",
       "       [0.11111111, 0.05084746],\n",
       "       [0.08333333, 0.08474576],\n",
       "       [0.19444444, 0.06779661]])"
      ]
     },
     "execution_count": 7,
     "metadata": {},
     "output_type": "execute_result"
    }
   ],
   "source": [
    "y[0:5]"
   ]
  },
  {
   "cell_type": "markdown",
   "id": "17f8aed0",
   "metadata": {},
   "source": [
    "# Testing Models\n",
    "Because the `greedy` algorithm creates $8$ offspring per set of parents, a total of $O(8*n*m)$ models are created, where *n* refers to the generation size and *m* refers to the number of generations. On the other hand, `self-adaptive` algorithm only creates $4$ offspring per set of parents. Lastly, the `generic` algorithm creates $4$ offspring per set of parents. In order to accurately compare the algorithms for the given dataset, all models will have the same population size of $25$, and activation function, $relu$; but, their maximum number of generations will diff such that only $20000$ models are created. \n",
    "- `greedy`: max_epoch=100\n",
    "- `generic`: max_epoch=200\n",
    "- `self-adaptive`: max_epoch=200"
   ]
  },
  {
   "cell_type": "code",
   "execution_count": 8,
   "id": "7677bd04",
   "metadata": {},
   "outputs": [],
   "source": [
    "layer_nodes = [50, 50, 50]  # three hidden layers, 50 nodes each\n",
    "num_input = x.shape[1]  # number of variables\n",
    "num_output = 2\n",
    "population_size = 25"
   ]
  },
  {
   "cell_type": "markdown",
   "id": "4049ddb8",
   "metadata": {},
   "source": [
    "## Greedy Algorithm"
   ]
  },
  {
   "cell_type": "code",
   "execution_count": 32,
   "id": "8f2763df",
   "metadata": {},
   "outputs": [],
   "source": [
    "model1 = ne.NeuroRegressor(layer_nodes=layer_nodes, num_input=num_input, num_output=num_output,\n",
    "                         population_size=population_size, activation_function='relu')"
   ]
  },
  {
   "cell_type": "code",
   "execution_count": 33,
   "id": "fa094813",
   "metadata": {
    "scrolled": false
   },
   "outputs": [
    {
     "name": "stdout",
     "output_type": "stream",
     "text": [
      "Number of Trainable Parameters Per Network: 5501\n",
      "Epoch 1/100\n",
      " Batch 2/2   Results for Batch: Best Loss: 0.0660663 Mean Loss: 0.0969207 Val Loss: 0.1209703\n",
      "Epoch 2/100\n",
      " Batch 2/2   Results for Batch: Best Loss: 0.0499436 Mean Loss: 0.0598 Val Loss: 0.0689005237\n",
      "Epoch 3/100\n",
      " Batch 2/2   Results for Batch: Best Loss: 0.039334 Mean Loss: 0.0490173 Val Loss: 0.05706253\n",
      "Epoch 4/100\n",
      " Batch 2/2   Results for Batch: Best Loss: 0.0262051 Mean Loss: 0.0317702 Val Loss: 0.0396065\n",
      "Epoch 5/100\n",
      " Batch 2/2   Results for Batch: Best Loss: 0.016433 Mean Loss: 0.0207868 Val Loss: 0.0289218\n",
      "Epoch 6/100\n",
      " Batch 2/2   Results for Batch: Best Loss: 0.0125279 Mean Loss: 0.0143459 Val Loss: 0.0226654\n",
      "Epoch 7/100\n",
      " Batch 2/2   Results for Batch: Best Loss: 0.0097956 Mean Loss: 0.0119955 Val Loss: 0.0197354\n",
      "Epoch 8/100\n",
      " Batch 2/2   Results for Batch: Best Loss: 0.0091801 Mean Loss: 0.0101266 Val Loss: 0.0177431\n",
      "Epoch 9/100\n",
      " Batch 2/2   Results for Batch: Best Loss: 0.0083725 Mean Loss: 0.0088729 Val Loss: 0.0160741\n",
      "Epoch 10/100\n",
      " Batch 2/2   Results for Batch: Best Loss: 0.0082129 Mean Loss: 0.0085259 Val Loss: 0.0152858\n",
      "Epoch 11/100\n",
      " Batch 2/2   Results for Batch: Best Loss: 0.0081093 Mean Loss: 0.0083728 Val Loss: 0.0151108\n",
      "Epoch 12/100\n",
      " Batch 2/2   Results for Batch: Best Loss: 0.0079207 Mean Loss: 0.0080799 Val Loss: 0.0146732\n",
      "Epoch 13/100\n",
      " Batch 2/2   Results for Batch: Best Loss: 0.0078966 Mean Loss: 0.0079869 Val Loss: 0.0145406\n",
      "Epoch 14/100\n",
      " Batch 2/2   Results for Batch: Best Loss: 0.0078858 Mean Loss: 0.0079392 Val Loss: 0.0144438\n",
      "Epoch 15/100\n",
      " Batch 2/2   Results for Batch: Best Loss: 0.0078826 Mean Loss: 0.0079049 Val Loss: 0.0143873\n",
      "Epoch 16/100\n",
      " Batch 2/2   Results for Batch: Best Loss: 0.0078813 Mean Loss: 0.0078906 Val Loss: 0.0143522\n",
      "Epoch 17/100\n",
      " Batch 2/2   Results for Batch: Best Loss: 0.0078817 Mean Loss: 0.0079257 Val Loss: 0.0143868\n",
      "Epoch 18/100\n",
      " Batch 2/2   Results for Batch: Best Loss: 0.0078809 Mean Loss: 0.007921 Val Loss: 0.01435543\n",
      "Epoch 19/100\n",
      " Batch 2/2   Results for Batch: Best Loss: 0.0077598 Mean Loss: 0.0078778 Val Loss: 0.0143329\n",
      "Epoch 20/100\n",
      " Batch 2/2   Results for Batch: Best Loss: 0.0077483 Mean Loss: 0.0078913 Val Loss: 0.0143669\n",
      "Epoch 21/100\n",
      " Batch 2/2   Results for Batch: Best Loss: 0.0077483 Mean Loss: 0.0078875 Val Loss: 0.0143573\n",
      "Epoch 22/100\n",
      " Batch 2/2   Results for Batch: Best Loss: 0.0077722 Mean Loss: 0.0078661 Val Loss: 0.0143138\n",
      "Epoch 23/100\n",
      " Batch 2/2   Results for Batch: Best Loss: 0.0077822 Mean Loss: 0.0077936 Val Loss: 0.0141765\n",
      "Epoch 24/100\n",
      " Batch 2/2   Results for Batch: Best Loss: 0.0077821 Mean Loss: 0.007809 Val Loss: 0.0141989\n",
      "Epoch 25/100\n",
      " Batch 2/2   Results for Batch: Best Loss: 0.0077822 Mean Loss: 0.0077834 Val Loss: 0.0141592\n",
      "Epoch 26/100\n",
      " Batch 2/2   Results for Batch: Best Loss: 0.0077822 Mean Loss: 0.0078642 Val Loss: 0.0142455\n",
      "Epoch 27/100\n",
      " Batch 2/2   Results for Batch: Best Loss: 0.0077822 Mean Loss: 0.0077822 Val Loss: 0.0141563\n",
      "Epoch 28/100\n",
      " Batch 2/2   Results for Batch: Best Loss: 0.0077822 Mean Loss: 0.0077822 Val Loss: 0.0141563\n",
      "Epoch 29/100\n",
      " Batch 2/2   Results for Batch: Best Loss: 0.0077822 Mean Loss: 0.0079084 Val Loss: 0.0142626\n",
      "Epoch 30/100\n",
      " Batch 2/2   Results for Batch: Best Loss: 0.0076196 Mean Loss: 0.0077574 Val Loss: 0.0141129\n",
      "Epoch 31/100\n",
      " Batch 2/2   Results for Batch: Best Loss: 0.0076702 Mean Loss: 0.0078468 Val Loss: 0.0141887\n",
      "Epoch 32/100\n",
      " Batch 2/2   Results for Batch: Best Loss: 0.0076714 Mean Loss: 0.0077755 Val Loss: 0.0140426\n",
      "Epoch 33/100\n",
      " Batch 2/2   Results for Batch: Best Loss: 0.0075812 Mean Loss: 0.0076618 Val Loss: 0.0139647\n",
      "Epoch 34/100\n",
      " Batch 2/2   Results for Batch: Best Loss: 0.00758 Mean Loss: 0.0076811 Val Loss: 0.013922922\n",
      "Epoch 35/100\n",
      " Batch 2/2   Results for Batch: Best Loss: 0.0072964 Mean Loss: 0.0075414 Val Loss: 0.0136569\n",
      "Epoch 36/100\n",
      " Batch 2/2   Results for Batch: Best Loss: 0.0072691 Mean Loss: 0.0073465 Val Loss: 0.0131196\n",
      "Epoch 37/100\n",
      " Batch 2/2   Results for Batch: Best Loss: 0.0072711 Mean Loss: 0.0072975 Val Loss: 0.0130646\n",
      "Epoch 38/100\n",
      " Batch 2/2   Results for Batch: Best Loss: 0.0072692 Mean Loss: 0.0073382 Val Loss: 0.0130643\n",
      "Epoch 39/100\n",
      " Batch 2/2   Results for Batch: Best Loss: 0.0072684 Mean Loss: 0.0072736 Val Loss: 0.0130292\n",
      "Epoch 40/100\n",
      " Batch 2/2   Results for Batch: Best Loss: 0.0072684 Mean Loss: 0.0073363 Val Loss: 0.0131033\n",
      "Epoch 41/100\n",
      " Batch 2/2   Results for Batch: Best Loss: 0.0072683 Mean Loss: 0.0072688 Val Loss: 0.0130372\n",
      "Epoch 42/100\n",
      " Batch 2/2   Results for Batch: Best Loss: 0.0072684 Mean Loss: 0.0073304 Val Loss: 0.0131398\n",
      "Epoch 43/100\n",
      " Batch 2/2   Results for Batch: Best Loss: 0.0072684 Mean Loss: 0.0072686 Val Loss: 0.0130383\n",
      "Epoch 44/100\n",
      " Batch 2/2   Results for Batch: Best Loss: 0.0072684 Mean Loss: 0.0073189 Val Loss: 0.0130923\n",
      "Epoch 45/100\n",
      " Batch 2/2   Results for Batch: Best Loss: 0.0072514 Mean Loss: 0.0072667 Val Loss: 0.0130397\n",
      "Epoch 46/100\n",
      " Batch 2/2   Results for Batch: Best Loss: 0.0072514 Mean Loss: 0.0072514 Val Loss: 0.0130537\n",
      "Epoch 47/100\n",
      " Batch 2/2   Results for Batch: Best Loss: 0.0072514 Mean Loss: 0.0072514 Val Loss: 0.0130537\n",
      "Epoch 48/100\n",
      " Batch 2/2   Results for Batch: Best Loss: 0.0072514 Mean Loss: 0.0072716 Val Loss: 0.0130463\n",
      "Epoch 49/100\n",
      " Batch 2/2   Results for Batch: Best Loss: 0.0072514 Mean Loss: 0.0072514 Val Loss: 0.0130537\n",
      "Epoch 50/100\n",
      " Batch 2/2   Results for Batch: Best Loss: 0.0072514 Mean Loss: 0.0072803 Val Loss: 0.0130607\n",
      "Epoch 51/100\n",
      " Batch 2/2   Results for Batch: Best Loss: 0.0072514 Mean Loss: 0.0072601 Val Loss: 0.0130647\n",
      "Epoch 52/100\n",
      " Batch 2/2   Results for Batch: Best Loss: 0.0072514 Mean Loss: 0.0073124 Val Loss: 0.0130623\n",
      "Epoch 53/100\n",
      " Batch 2/2   Results for Batch: Best Loss: 0.0069988 Mean Loss: 0.0072609 Val Loss: 0.0130682\n",
      "Epoch 54/100\n",
      " Batch 2/2   Results for Batch: Best Loss: 0.0069837 Mean Loss: 0.007078 Val Loss: 0.01268559\n",
      "Epoch 55/100\n",
      " Batch 2/2   Results for Batch: Best Loss: 0.006982 Mean Loss: 0.0069966 Val Loss: 0.01244971\n",
      "Epoch 56/100\n",
      " Batch 2/2   Results for Batch: Best Loss: 0.0069699 Mean Loss: 0.0071176 Val Loss: 0.0126589\n",
      "Epoch 57/100\n",
      " Batch 2/2   Results for Batch: Best Loss: 0.0069718 Mean Loss: 0.0071115 Val Loss: 0.0126088\n",
      "Epoch 58/100\n",
      " Batch 2/2   Results for Batch: Best Loss: 0.0069712 Mean Loss: 0.0069753 Val Loss: 0.0124761\n",
      "Epoch 59/100\n",
      " Batch 2/2   Results for Batch: Best Loss: 0.0069725 Mean Loss: 0.0069743 Val Loss: 0.0124721\n",
      "Epoch 60/100\n",
      " Batch 2/2   Results for Batch: Best Loss: 0.0069725 Mean Loss: 0.0070368 Val Loss: 0.0125515\n",
      "Epoch 61/100\n",
      " Batch 2/2   Results for Batch: Best Loss: 0.0069725 Mean Loss: 0.007038 Val Loss: 0.01256565\n",
      "Epoch 62/100\n",
      " Batch 2/2   Results for Batch: Best Loss: 0.0069725 Mean Loss: 0.0069894 Val Loss: 0.012522\n",
      "Epoch 63/100\n",
      " Batch 2/2   Results for Batch: Best Loss: 0.0069396 Mean Loss: 0.0070143 Val Loss: 0.0127257\n",
      "Epoch 64/100\n",
      " Batch 2/2   Results for Batch: Best Loss: 0.0069443 Mean Loss: 0.0069491 Val Loss: 0.0126196\n",
      "Epoch 65/100\n",
      " Batch 2/2   Results for Batch: Best Loss: 0.0069443 Mean Loss: 0.0069651 Val Loss: 0.0126462\n",
      "Epoch 66/100\n",
      " Batch 2/2   Results for Batch: Best Loss: 0.0069443 Mean Loss: 0.0069443 Val Loss: 0.0126102\n",
      "Epoch 67/100\n",
      " Batch 2/2   Results for Batch: Best Loss: 0.0069443 Mean Loss: 0.0069604 Val Loss: 0.0126227\n",
      "Epoch 68/100\n",
      " Batch 2/2   Results for Batch: Best Loss: 0.0069443 Mean Loss: 0.0069443 Val Loss: 0.0126102\n",
      "Epoch 69/100\n",
      " Batch 2/2   Results for Batch: Best Loss: 0.0069443 Mean Loss: 0.0069443 Val Loss: 0.0126102\n",
      "Epoch 70/100\n",
      " Batch 2/2   Results for Batch: Best Loss: 0.0069443 Mean Loss: 0.0069443 Val Loss: 0.0126102\n",
      "Epoch 71/100\n",
      " Batch 2/2   Results for Batch: Best Loss: 0.0069443 Mean Loss: 0.0069443 Val Loss: 0.0126102\n",
      "Epoch 72/100\n",
      " Batch 2/2   Results for Batch: Best Loss: 0.0069443 Mean Loss: 0.0069443 Val Loss: 0.0126102\n",
      "Epoch 73/100\n",
      " Batch 2/2   Results for Batch: Best Loss: 0.0069443 Mean Loss: 0.0069443 Val Loss: 0.0126102\n",
      "Epoch 74/100\n",
      " Batch 2/2   Results for Batch: Best Loss: 0.0069443 Mean Loss: 0.0069811 Val Loss: 0.0126601\n",
      "Epoch 75/100\n",
      " Batch 2/2   Results for Batch: Best Loss: 0.0069443 Mean Loss: 0.0069773 Val Loss: 0.0126405\n",
      "Epoch 76/100\n",
      " Batch 2/2   Results for Batch: Best Loss: 0.0069443 Mean Loss: 0.0070027 Val Loss: 0.0126622\n",
      "Epoch 77/100\n",
      " Batch 2/2   Results for Batch: Best Loss: 0.0069443 Mean Loss: 0.0070477 Val Loss: 0.0127213\n",
      "Epoch 78/100\n",
      " Batch 2/2   Results for Batch: Best Loss: 0.0069443 Mean Loss: 0.0069734 Val Loss: 0.0126393\n"
     ]
    },
    {
     "name": "stdout",
     "output_type": "stream",
     "text": [
      "Epoch 79/100\n",
      " Batch 2/2   Results for Batch: Best Loss: 0.0069443 Mean Loss: 0.0069443 Val Loss: 0.0126102\n",
      "Epoch 80/100\n",
      " Batch 2/2   Results for Batch: Best Loss: 0.0069443 Mean Loss: 0.0069443 Val Loss: 0.0126102\n",
      "Epoch 81/100\n",
      " Batch 2/2   Results for Batch: Best Loss: 0.0069443 Mean Loss: 0.0069443 Val Loss: 0.0126102\n",
      "Epoch 82/100\n",
      " Batch 2/2   Results for Batch: Best Loss: 0.0069443 Mean Loss: 0.0069946 Val Loss: 0.0126686\n",
      "Epoch 83/100\n",
      " Batch 2/2   Results for Batch: Best Loss: 0.0069443 Mean Loss: 0.0069443 Val Loss: 0.0126102\n",
      "Epoch 84/100\n",
      " Batch 2/2   Results for Batch: Best Loss: 0.0069443 Mean Loss: 0.0070056 Val Loss: 0.0126708\n",
      "Epoch 85/100\n",
      " Batch 2/2   Results for Batch: Best Loss: 0.0069443 Mean Loss: 0.0069652 Val Loss: 0.0126361\n",
      "Epoch 86/100\n",
      " Batch 2/2   Results for Batch: Best Loss: 0.0069195 Mean Loss: 0.0069409 Val Loss: 0.0126097\n",
      "Epoch 87/100\n",
      " Batch 2/2   Results for Batch: Best Loss: 0.0069195 Mean Loss: 0.0069253 Val Loss: 0.0126069\n",
      "Epoch 88/100\n",
      " Batch 2/2   Results for Batch: Best Loss: 0.0069195 Mean Loss: 0.0069203 Val Loss: 0.0126065\n",
      "Epoch 89/100\n",
      " Batch 2/2   Results for Batch: Best Loss: 0.0069195 Mean Loss: 0.0069195 Val Loss: 0.0126066\n",
      "Epoch 90/100\n",
      " Batch 2/2   Results for Batch: Best Loss: 0.0069195 Mean Loss: 0.0069195 Val Loss: 0.0126066\n",
      "Epoch 91/100\n",
      " Batch 2/2   Results for Batch: Best Loss: 0.0069195 Mean Loss: 0.0069195 Val Loss: 0.0126066\n",
      "Epoch 92/100\n",
      " Batch 2/2   Results for Batch: Best Loss: 0.0069195 Mean Loss: 0.006951 Val Loss: 0.01263546\n",
      "Epoch 93/100\n",
      " Batch 2/2   Results for Batch: Best Loss: 0.0069195 Mean Loss: 0.0069195 Val Loss: 0.0126066\n",
      "Epoch 94/100\n",
      " Batch 2/2   Results for Batch: Best Loss: 0.0069195 Mean Loss: 0.0070104 Val Loss: 0.0126699\n",
      "Epoch 95/100\n",
      " Batch 2/2   Results for Batch: Best Loss: 0.0069195 Mean Loss: 0.0069366 Val Loss: 0.0126378\n",
      "Epoch 96/100\n",
      " Batch 2/2   Results for Batch: Best Loss: 0.0069195 Mean Loss: 0.0069369 Val Loss: 0.0126187\n",
      "Epoch 97/100\n",
      " Batch 2/2   Results for Batch: Best Loss: 0.0069195 Mean Loss: 0.0069195 Val Loss: 0.0126066\n",
      "Epoch 98/100\n",
      " Batch 2/2   Results for Batch: Best Loss: 0.0069195 Mean Loss: 0.0069434 Val Loss: 0.0126266\n",
      "Epoch 99/100\n",
      " Batch 2/2   Results for Batch: Best Loss: 0.0069195 Mean Loss: 0.0069195 Val Loss: 0.0126066\n",
      "Epoch 100/100\n",
      " Batch 2/2   Results for Batch: Best Loss: 0.0069195 Mean Loss: 0.006939 Val Loss: 0.01261076\n"
     ]
    }
   ],
   "source": [
    "model1.evolve(max_epoch=100, batch_size=50, train_data=[x[train_ind], y[train_ind]], val_data=[x[val_ind], y[val_ind]],\n",
    "             early_stopping=True, verbose=True,\n",
    "             warm_start=False, algorithm='greedy', patience=15)"
   ]
  },
  {
   "cell_type": "code",
   "execution_count": 34,
   "id": "2c3c372b",
   "metadata": {},
   "outputs": [
    {
     "data": {
      "image/png": "[encoded data removed]",
      "text/plain": [
       "<Figure size 432x288 with 1 Axes>"
      ]
     },
     "metadata": {
      "needs_background": "light"
     },
     "output_type": "display_data"
    },
    {
     "data": {
      "image/png": "[encoded data removed]",
      "text/plain": [
       "<Figure size 432x288 with 1 Axes>"
      ]
     },
     "metadata": {
      "needs_background": "light"
     },
     "output_type": "display_data"
    }
   ],
   "source": [
    "model1.plot(starting_gen=0)\n",
    "model1.plot(starting_gen=25)"
   ]
  },
  {
   "cell_type": "markdown",
   "id": "b7f59df4",
   "metadata": {},
   "source": [
    "# Generic Algorithm"
   ]
  },
  {
   "cell_type": "code",
   "execution_count": 18,
   "id": "5a3f636e",
   "metadata": {},
   "outputs": [],
   "source": [
    "model2 = ne.NeuroRegressor(layer_nodes=layer_nodes, num_input=num_input, num_output=num_output,\n",
    "                         population_size=population_size, activation_function='relu')"
   ]
  },
  {
   "cell_type": "code",
   "execution_count": 19,
   "id": "feb2816c",
   "metadata": {},
   "outputs": [
    {
     "name": "stdout",
     "output_type": "stream",
     "text": [
      "Number of Trainable Parameters Per Network: 5501\n",
      "Epoch 1/200\n",
      " Batch 2/2   Results for Batch: Best Loss: 0.0600572 Mean Loss: 0.1561789 Val Loss: 0.2050597\n",
      "Epoch 2/200\n",
      " Batch 2/2   Results for Batch: Best Loss: 0.0567324 Mean Loss: 0.1253135 Val Loss: 0.1711419\n",
      "Epoch 3/200\n",
      " Batch 2/2   Results for Batch: Best Loss: 0.0542094 Mean Loss: 0.0928995 Val Loss: 0.1271925\n",
      "Epoch 4/200\n",
      " Batch 2/2   Results for Batch: Best Loss: 0.0542094 Mean Loss: 0.0759195 Val Loss: 0.1043346\n",
      "Epoch 5/200\n",
      " Batch 2/2   Results for Batch: Best Loss: 0.0542094 Mean Loss: 0.0651576 Val Loss: 0.0847457\n",
      "Epoch 6/200\n",
      " Batch 2/2   Results for Batch: Best Loss: 0.0509311 Mean Loss: 0.0592452 Val Loss: 0.0718896\n",
      "Epoch 7/200\n",
      " Batch 2/2   Results for Batch: Best Loss: 0.0480802 Mean Loss: 0.0550013 Val Loss: 0.0666352\n",
      "Epoch 8/200\n",
      " Batch 2/2   Results for Batch: Best Loss: 0.0430157 Mean Loss: 0.0500741 Val Loss: 0.0597666\n",
      "Epoch 9/200\n",
      " Batch 2/2   Results for Batch: Best Loss: 0.0400561 Mean Loss: 0.0449016 Val Loss: 0.054065\n",
      "Epoch 10/200\n",
      " Batch 2/2   Results for Batch: Best Loss: 0.0382409 Mean Loss: 0.0419262 Val Loss: 0.0506671\n",
      "Epoch 11/200\n",
      " Batch 2/2   Results for Batch: Best Loss: 0.0340836 Mean Loss: 0.0385885 Val Loss: 0.0469893\n",
      "Epoch 12/200\n",
      " Batch 2/2   Results for Batch: Best Loss: 0.0325946 Mean Loss: 0.0358181 Val Loss: 0.0447444\n",
      "Epoch 13/200\n",
      " Batch 2/2   Results for Batch: Best Loss: 0.0300112 Mean Loss: 0.033487 Val Loss: 0.04170787\n",
      "Epoch 14/200\n",
      " Batch 2/2   Results for Batch: Best Loss: 0.0288995 Mean Loss: 0.0312712 Val Loss: 0.0397338\n",
      "Epoch 15/200\n",
      " Batch 2/2   Results for Batch: Best Loss: 0.0266302 Mean Loss: 0.0287818 Val Loss: 0.0375074\n",
      "Epoch 16/200\n",
      " Batch 2/2   Results for Batch: Best Loss: 0.0242786 Mean Loss: 0.0267338 Val Loss: 0.0354789\n",
      "Epoch 17/200\n",
      " Batch 2/2   Results for Batch: Best Loss: 0.0217412 Mean Loss: 0.0249033 Val Loss: 0.0333344\n",
      "Epoch 18/200\n",
      " Batch 2/2   Results for Batch: Best Loss: 0.0203969 Mean Loss: 0.0227932 Val Loss: 0.0308113\n",
      "Epoch 19/200\n",
      " Batch 2/2   Results for Batch: Best Loss: 0.0158164 Mean Loss: 0.0204704 Val Loss: 0.0285159\n",
      "Epoch 20/200\n",
      " Batch 2/2   Results for Batch: Best Loss: 0.0145244 Mean Loss: 0.0180745 Val Loss: 0.0253175\n",
      "Epoch 21/200\n",
      " Batch 2/2   Results for Batch: Best Loss: 0.0138863 Mean Loss: 0.0155225 Val Loss: 0.0225238\n",
      "Epoch 22/200\n",
      " Batch 2/2   Results for Batch: Best Loss: 0.0116165 Mean Loss: 0.0134574 Val Loss: 0.0201686\n",
      "Epoch 23/200\n",
      " Batch 2/2   Results for Batch: Best Loss: 0.0109027 Mean Loss: 0.0121099 Val Loss: 0.0187541\n",
      "Epoch 24/200\n",
      " Batch 2/2   Results for Batch: Best Loss: 0.0105965 Mean Loss: 0.0114626 Val Loss: 0.0178697\n",
      "Epoch 25/200\n",
      " Batch 2/2   Results for Batch: Best Loss: 0.010289 Mean Loss: 0.0110308 Val Loss: 0.01735719\n",
      "Epoch 26/200\n",
      " Batch 2/2   Results for Batch: Best Loss: 0.0095104 Mean Loss: 0.010521 Val Loss: 0.01676093\n",
      "Epoch 27/200\n",
      " Batch 2/2   Results for Batch: Best Loss: 0.0092484 Mean Loss: 0.0102151 Val Loss: 0.0163584\n",
      "Epoch 28/200\n",
      " Batch 2/2   Results for Batch: Best Loss: 0.0089606 Mean Loss: 0.0095414 Val Loss: 0.015668\n",
      "Epoch 29/200\n",
      " Batch 2/2   Results for Batch: Best Loss: 0.0087609 Mean Loss: 0.0092895 Val Loss: 0.0153003\n",
      "Epoch 30/200\n",
      " Batch 2/2   Results for Batch: Best Loss: 0.0081817 Mean Loss: 0.0091161 Val Loss: 0.0150708\n",
      "Epoch 31/200\n",
      " Batch 2/2   Results for Batch: Best Loss: 0.0082949 Mean Loss: 0.0088164 Val Loss: 0.0146319\n",
      "Epoch 32/200\n",
      " Batch 2/2   Results for Batch: Best Loss: 0.0083336 Mean Loss: 0.0086288 Val Loss: 0.0143912\n",
      "Epoch 33/200\n",
      " Batch 2/2   Results for Batch: Best Loss: 0.0082944 Mean Loss: 0.0085659 Val Loss: 0.0142952\n",
      "Epoch 34/200\n",
      " Batch 2/2   Results for Batch: Best Loss: 0.0082965 Mean Loss: 0.0084513 Val Loss: 0.0141033\n",
      "Epoch 35/200\n",
      " Batch 2/2   Results for Batch: Best Loss: 0.0079781 Mean Loss: 0.0084025 Val Loss: 0.0140613\n",
      "Epoch 36/200\n",
      " Batch 2/2   Results for Batch: Best Loss: 0.0080955 Mean Loss: 0.008339 Val Loss: 0.01400437\n",
      "Epoch 37/200\n",
      " Batch 2/2   Results for Batch: Best Loss: 0.0079501 Mean Loss: 0.008304 Val Loss: 0.01396586\n",
      "Epoch 38/200\n",
      " Batch 2/2   Results for Batch: Best Loss: 0.0079501 Mean Loss: 0.0082329 Val Loss: 0.0138792\n",
      "Epoch 39/200\n",
      " Batch 2/2   Results for Batch: Best Loss: 0.0079501 Mean Loss: 0.0081726 Val Loss: 0.0137862\n",
      "Epoch 40/200\n",
      " Batch 2/2   Results for Batch: Best Loss: 0.0079835 Mean Loss: 0.0081356 Val Loss: 0.0137182\n",
      "Epoch 41/200\n",
      " Batch 2/2   Results for Batch: Best Loss: 0.0079182 Mean Loss: 0.0080396 Val Loss: 0.0135798\n",
      "Epoch 42/200\n",
      " Batch 2/2   Results for Batch: Best Loss: 0.0079177 Mean Loss: 0.0080949 Val Loss: 0.0136148\n",
      "Epoch 43/200\n",
      " Batch 2/2   Results for Batch: Best Loss: 0.0079182 Mean Loss: 0.008044 Val Loss: 0.0135186\n",
      "Epoch 44/200\n",
      " Batch 2/2   Results for Batch: Best Loss: 0.0079096 Mean Loss: 0.0079649 Val Loss: 0.0134138\n",
      "Epoch 45/200\n",
      " Batch 2/2   Results for Batch: Best Loss: 0.0079139 Mean Loss: 0.0080078 Val Loss: 0.0134551\n",
      "Epoch 46/200\n",
      " Batch 2/2   Results for Batch: Best Loss: 0.0077701 Mean Loss: 0.0079178 Val Loss: 0.0132474\n",
      "Epoch 47/200\n",
      " Batch 2/2   Results for Batch: Best Loss: 0.0077543 Mean Loss: 0.0078976 Val Loss: 0.0131852\n",
      "Epoch 48/200\n",
      " Batch 2/2   Results for Batch: Best Loss: 0.0076503 Mean Loss: 0.0078669 Val Loss: 0.0131728\n",
      "Epoch 49/200\n",
      " Batch 2/2   Results for Batch: Best Loss: 0.0077354 Mean Loss: 0.007873 Val Loss: 0.01318329\n",
      "Epoch 50/200\n",
      " Batch 2/2   Results for Batch: Best Loss: 0.0077378 Mean Loss: 0.007796 Val Loss: 0.01313914\n",
      "Epoch 51/200\n",
      " Batch 2/2   Results for Batch: Best Loss: 0.0077397 Mean Loss: 0.0077806 Val Loss: 0.0131341\n",
      "Epoch 52/200\n",
      " Batch 2/2   Results for Batch: Best Loss: 0.007751 Mean Loss: 0.0077732 Val Loss: 0.01313971\n",
      "Epoch 53/200\n",
      " Batch 2/2   Results for Batch: Best Loss: 0.007765 Mean Loss: 0.0077716 Val Loss: 0.0131503\n",
      "Epoch 54/200\n",
      " Batch 2/2   Results for Batch: Best Loss: 0.0077665 Mean Loss: 0.0077707 Val Loss: 0.0131561\n",
      "Epoch 55/200\n",
      " Batch 2/2   Results for Batch: Best Loss: 0.0077684 Mean Loss: 0.0077897 Val Loss: 0.0131759\n",
      "Epoch 56/200\n",
      " Batch 2/2   Results for Batch: Best Loss: 0.0077623 Mean Loss: 0.0077699 Val Loss: 0.0131596\n",
      "Epoch 57/200\n",
      " Batch 2/2   Results for Batch: Best Loss: 0.0077684 Mean Loss: 0.00777 Val Loss: 0.01316441\n",
      "Epoch 58/200\n",
      " Batch 2/2   Results for Batch: Best Loss: 0.0077684 Mean Loss: 0.0077698 Val Loss: 0.0131674\n",
      "Epoch 59/200\n",
      " Batch 2/2   Results for Batch: Best Loss: 0.0077684 Mean Loss: 0.0077694 Val Loss: 0.0131716\n",
      "Epoch 60/200\n",
      " Batch 2/2   Results for Batch: Best Loss: 0.0077684 Mean Loss: 0.0077951 Val Loss: 0.0131729\n",
      "Epoch 61/200\n",
      " Batch 2/2   Results for Batch: Best Loss: 0.0077546 Mean Loss: 0.0077714 Val Loss: 0.0131451\n",
      "Epoch 62/200\n",
      " Batch 2/2   Results for Batch: Best Loss: 0.0077523 Mean Loss: 0.0077607 Val Loss: 0.0131057\n",
      "Epoch 63/200\n",
      " Batch 2/2   Results for Batch: Best Loss: 0.0077523 Mean Loss: 0.0077546 Val Loss: 0.0130784\n",
      "Epoch 64/200\n",
      " Batch 2/2   Results for Batch: Best Loss: 0.0077523 Mean Loss: 0.0077748 Val Loss: 0.0131189\n",
      "Epoch 65/200\n",
      " Batch 2/2   Results for Batch: Best Loss: 0.0077523 Mean Loss: 0.00781 Val Loss: 0.013167703\n",
      "Epoch 66/200\n",
      " Batch 2/2   Results for Batch: Best Loss: 0.0077208 Mean Loss: 0.0077494 Val Loss: 0.0130922\n",
      "Epoch 67/200\n",
      " Batch 2/2   Results for Batch: Best Loss: 0.0077224 Mean Loss: 0.007747 Val Loss: 0.01310388\n",
      "Epoch 68/200\n",
      " Batch 2/2   Results for Batch: Best Loss: 0.0077193 Mean Loss: 0.0077395 Val Loss: 0.0131389\n",
      "Epoch 69/200\n",
      " Batch 2/2   Results for Batch: Best Loss: 0.0075591 Mean Loss: 0.0077161 Val Loss: 0.0131596\n",
      "Epoch 70/200\n",
      " Batch 2/2   Results for Batch: Best Loss: 0.0076641 Mean Loss: 0.0077329 Val Loss: 0.0131972\n",
      "Epoch 71/200\n",
      " Batch 2/2   Results for Batch: Best Loss: 0.0076775 Mean Loss: 0.0076969 Val Loss: 0.0131648\n",
      "Epoch 72/200\n",
      " Batch 2/2   Results for Batch: Best Loss: 0.0076795 Mean Loss: 0.0076921 Val Loss: 0.0131525\n",
      "Epoch 73/200\n",
      " Batch 2/2   Results for Batch: Best Loss: 0.0076795 Mean Loss: 0.0076909 Val Loss: 0.013154\n",
      "Epoch 74/200\n",
      " Batch 2/2   Results for Batch: Best Loss: 0.0076795 Mean Loss: 0.0076916 Val Loss: 0.0131506\n",
      "Epoch 75/200\n",
      " Batch 2/2   Results for Batch: Best Loss: 0.0076795 Mean Loss: 0.0076909 Val Loss: 0.0131483\n",
      "Epoch 76/200\n",
      " Batch 2/2   Results for Batch: Best Loss: 0.0076795 Mean Loss: 0.0076889 Val Loss: 0.0131512\n",
      "Epoch 77/200\n",
      " Batch 2/2   Results for Batch: Best Loss: 0.0076795 Mean Loss: 0.0076879 Val Loss: 0.0131526\n",
      "Epoch 78/200\n"
     ]
    },
    {
     "name": "stdout",
     "output_type": "stream",
     "text": [
      " Batch 2/2   Results for Batch: Best Loss: 0.0074583 Mean Loss: 0.0076514 Val Loss: 0.0131414\n",
      "Epoch 79/200\n",
      " Batch 2/2   Results for Batch: Best Loss: 0.0074661 Mean Loss: 0.0076012 Val Loss: 0.0131225\n",
      "Epoch 80/200\n",
      " Batch 2/2   Results for Batch: Best Loss: 0.0074755 Mean Loss: 0.0075504 Val Loss: 0.0130949\n",
      "Epoch 81/200\n",
      " Batch 2/2   Results for Batch: Best Loss: 0.0074755 Mean Loss: 0.0075388 Val Loss: 0.0130891\n",
      "Epoch 82/200\n",
      " Batch 2/2   Results for Batch: Best Loss: 0.0074882 Mean Loss: 0.0075125 Val Loss: 0.0130722\n",
      "Epoch 83/200\n",
      " Batch 2/2   Results for Batch: Best Loss: 0.0074882 Mean Loss: 0.0075039 Val Loss: 0.0130644\n",
      "Epoch 84/200\n",
      " Batch 2/2   Results for Batch: Best Loss: 0.0074882 Mean Loss: 0.0075004 Val Loss: 0.0130604\n",
      "Epoch 85/200\n",
      " Batch 2/2   Results for Batch: Best Loss: 0.0074882 Mean Loss: 0.0074982 Val Loss: 0.0130578\n",
      "Epoch 86/200\n",
      " Batch 2/2   Results for Batch: Best Loss: 0.0074882 Mean Loss: 0.0074966 Val Loss: 0.0130557\n",
      "Epoch 87/200\n",
      " Batch 2/2   Results for Batch: Best Loss: 0.0074882 Mean Loss: 0.0074936 Val Loss: 0.0130519\n",
      "Epoch 88/200\n",
      " Batch 2/2   Results for Batch: Best Loss: 0.0074882 Mean Loss: 0.0074913 Val Loss: 0.0130498\n",
      "Epoch 89/200\n",
      " Batch 2/2   Results for Batch: Best Loss: 0.0074882 Mean Loss: 0.0074901 Val Loss: 0.0130474\n",
      "Epoch 90/200\n",
      " Batch 2/2   Results for Batch: Best Loss: 0.0074882 Mean Loss: 0.0074894 Val Loss: 0.0130465\n",
      "Epoch 91/200\n",
      " Batch 2/2   Results for Batch: Best Loss: 0.0072643 Mean Loss: 0.0074801 Val Loss: 0.0130326\n",
      "Epoch 92/200\n",
      " Batch 2/2   Results for Batch: Best Loss: 0.0074201 Mean Loss: 0.0074811 Val Loss: 0.0130356\n",
      "Epoch 93/200\n",
      " Batch 2/2   Results for Batch: Best Loss: 0.007455 Mean Loss: 0.0074772 Val Loss: 0.01303062\n",
      "Epoch 94/200\n",
      " Batch 2/2   Results for Batch: Best Loss: 0.0074646 Mean Loss: 0.0074748 Val Loss: 0.0130275\n",
      "Epoch 95/200\n",
      " Batch 2/2   Results for Batch: Best Loss: 0.0074693 Mean Loss: 0.0074733 Val Loss: 0.0130256\n",
      "Epoch 96/200\n",
      " Batch 2/2   Results for Batch: Best Loss: 0.0074714 Mean Loss: 0.0074737 Val Loss: 0.0130261\n",
      "Epoch 97/200\n",
      " Batch 2/2   Results for Batch: Best Loss: 0.0072207 Mean Loss: 0.0074632 Val Loss: 0.0130034\n",
      "Epoch 98/200\n",
      " Batch 2/2   Results for Batch: Best Loss: 0.0073423 Mean Loss: 0.0074507 Val Loss: 0.0129871\n",
      "Epoch 99/200\n",
      " Batch 2/2   Results for Batch: Best Loss: 0.0074145 Mean Loss: 0.0074518 Val Loss: 0.0129926\n",
      "Epoch 100/200\n",
      " Batch 2/2   Results for Batch: Best Loss: 0.0074272 Mean Loss: 0.0074517 Val Loss: 0.0129933\n",
      "Epoch 101/200\n",
      " Batch 2/2   Results for Batch: Best Loss: 0.0074381 Mean Loss: 0.0074448 Val Loss: 0.0129838\n",
      "Epoch 102/200\n",
      " Batch 2/2   Results for Batch: Best Loss: 0.0074405 Mean Loss: 0.0074866 Val Loss: 0.0130105\n",
      "Epoch 103/200\n",
      " Batch 2/2   Results for Batch: Best Loss: 0.0074425 Mean Loss: 0.0074441 Val Loss: 0.0129828\n",
      "Epoch 104/200\n",
      " Batch 2/2   Results for Batch: Best Loss: 0.0074434 Mean Loss: 0.0074442 Val Loss: 0.0129829\n",
      "Epoch 105/200\n",
      " Batch 2/2   Results for Batch: Best Loss: 0.0074436 Mean Loss: 0.0074441 Val Loss: 0.0129828\n",
      "Epoch 106/200\n",
      " Batch 2/2   Results for Batch: Best Loss: 0.0074439 Mean Loss: 0.007444 Val Loss: 0.01298277\n",
      "Epoch 107/200\n",
      " Batch 2/2   Results for Batch: Best Loss: 0.0074439 Mean Loss: 0.007444 Val Loss: 0.01298277\n",
      "Epoch 108/200\n",
      " Batch 2/2   Results for Batch: Best Loss: 0.0072665 Mean Loss: 0.0074308 Val Loss: 0.0129494\n",
      "Epoch 109/200\n",
      " Batch 2/2   Results for Batch: Best Loss: 0.0073199 Mean Loss: 0.0074133 Val Loss: 0.0128994\n",
      "Epoch 110/200\n",
      " Batch 2/2   Results for Batch: Best Loss: 0.0073543 Mean Loss: 0.0074072 Val Loss: 0.0128763\n",
      "Epoch 111/200\n",
      " Batch 2/2   Results for Batch: Best Loss: 0.0073794 Mean Loss: 0.0074225 Val Loss: 0.0128831\n",
      "Epoch 112/200\n",
      " Batch 2/2   Results for Batch: Best Loss: 0.0073924 Mean Loss: 0.0074023 Val Loss: 0.0128629\n",
      "Epoch 113/200\n",
      " Batch 2/2   Results for Batch: Best Loss: 0.0073964 Mean Loss: 0.0074006 Val Loss: 0.0128587\n",
      "Epoch 114/200\n",
      " Batch 2/2   Results for Batch: Best Loss: 0.0073984 Mean Loss: 0.0074004 Val Loss: 0.0128581\n",
      "Epoch 115/200\n",
      " Batch 2/2   Results for Batch: Best Loss: 0.0073989 Mean Loss: 0.0074 Val Loss: 0.0128571564\n",
      "Epoch 116/200\n",
      " Batch 2/2   Results for Batch: Best Loss: 0.0073992 Mean Loss: 0.0073999 Val Loss: 0.0128569\n",
      "Epoch 117/200\n",
      " Batch 2/2   Results for Batch: Best Loss: 0.0073995 Mean Loss: 0.0073998 Val Loss: 0.0128566\n",
      "Epoch 118/200\n",
      " Batch 2/2   Results for Batch: Best Loss: 0.0073996 Mean Loss: 0.0074168 Val Loss: 0.0128878\n",
      "Epoch 119/200\n",
      " Batch 2/2   Results for Batch: Best Loss: 0.0073997 Mean Loss: 0.0073997 Val Loss: 0.0128564\n",
      "Epoch 120/200\n",
      " Batch 2/2   Results for Batch: Best Loss: 0.0073997 Mean Loss: 0.0073997 Val Loss: 0.0128564\n",
      "Epoch 121/200\n",
      " Batch 2/2   Results for Batch: Best Loss: 0.0073997 Mean Loss: 0.0073997 Val Loss: 0.0128564\n",
      "Epoch 122/200\n",
      " Batch 2/2   Results for Batch: Best Loss: 0.0073997 Mean Loss: 0.0073997 Val Loss: 0.0128564\n",
      "Epoch 123/200\n",
      " Batch 2/2   Results for Batch: Best Loss: 0.0073997 Mean Loss: 0.0073997 Val Loss: 0.0128564\n",
      "Epoch 124/200\n",
      " Batch 2/2   Results for Batch: Best Loss: 0.0073997 Mean Loss: 0.0073997 Val Loss: 0.0128564\n",
      "Epoch 125/200\n",
      " Batch 2/2   Results for Batch: Best Loss: 0.0073997 Mean Loss: 0.0073997 Val Loss: 0.0128564\n",
      "Epoch 126/200\n",
      " Batch 2/2   Results for Batch: Best Loss: 0.007321 Mean Loss: 0.0073966 Val Loss: 0.01284772\n",
      "Epoch 127/200\n",
      " Batch 2/2   Results for Batch: Best Loss: 0.0073598 Mean Loss: 0.0073904 Val Loss: 0.0128331\n",
      "Epoch 128/200\n",
      " Batch 2/2   Results for Batch: Best Loss: 0.007373 Mean Loss: 0.0073895 Val Loss: 0.01283225\n",
      "Epoch 129/200\n",
      " Batch 2/2   Results for Batch: Best Loss: 0.0073772 Mean Loss: 0.0073872 Val Loss: 0.0128269\n",
      "Epoch 130/200\n",
      " Batch 2/2   Results for Batch: Best Loss: 0.0073837 Mean Loss: 0.007389 Val Loss: 0.0128314\n",
      "Epoch 131/200\n",
      " Batch 2/2   Results for Batch: Best Loss: 0.0073859 Mean Loss: 0.0073888 Val Loss: 0.0128311\n",
      "Epoch 132/200\n",
      " Batch 2/2   Results for Batch: Best Loss: 0.0073875 Mean Loss: 0.0074366 Val Loss: 0.0128714\n",
      "Epoch 133/200\n",
      " Batch 2/2   Results for Batch: Best Loss: 0.0073845 Mean Loss: 0.0074391 Val Loss: 0.0128344\n",
      "Epoch 134/200\n",
      " Batch 2/2   Results for Batch: Best Loss: 0.0073761 Mean Loss: 0.0073916 Val Loss: 0.0127617\n",
      "Epoch 135/200\n",
      " Batch 2/2   Results for Batch: Best Loss: 0.007376 Mean Loss: 0.0073852 Val Loss: 0.01272559\n",
      "Epoch 136/200\n",
      " Batch 2/2   Results for Batch: Best Loss: 0.0071814 Mean Loss: 0.0073669 Val Loss: 0.0127027\n",
      "Epoch 137/200\n",
      " Batch 2/2   Results for Batch: Best Loss: 0.0071947 Mean Loss: 0.0073221 Val Loss: 0.0126483\n",
      "Epoch 138/200\n",
      " Batch 2/2   Results for Batch: Best Loss: 0.0072616 Mean Loss: 0.0073182 Val Loss: 0.0126389\n",
      "Epoch 139/200\n",
      " Batch 2/2   Results for Batch: Best Loss: 0.0072865 Mean Loss: 0.0073116 Val Loss: 0.0126298\n",
      "Epoch 140/200\n",
      " Batch 2/2   Results for Batch: Best Loss: 0.0072967 Mean Loss: 0.0073075 Val Loss: 0.0126237\n",
      "Epoch 141/200\n",
      " Batch 2/2   Results for Batch: Best Loss: 0.0072997 Mean Loss: 0.0073068 Val Loss: 0.0126227\n",
      "Epoch 142/200\n",
      " Batch 2/2   Results for Batch: Best Loss: 0.0073048 Mean Loss: 0.0073072 Val Loss: 0.0126232\n",
      "Epoch 143/200\n",
      " Batch 2/2   Results for Batch: Best Loss: 0.0073058 Mean Loss: 0.0073072 Val Loss: 0.0126232\n",
      "Epoch 144/200\n",
      " Batch 2/2   Results for Batch: Best Loss: 0.0073063 Mean Loss: 0.0073208 Val Loss: 0.0125893\n",
      "Epoch 145/200\n",
      " Batch 2/2   Results for Batch: Best Loss: 0.0073064 Mean Loss: 0.0073069 Val Loss: 0.0126229\n",
      "Epoch 146/200\n",
      " Batch 2/2   Results for Batch: Best Loss: 0.0073067 Mean Loss: 0.0073069 Val Loss: 0.0126229\n",
      "Epoch 147/200\n",
      " Batch 2/2   Results for Batch: Best Loss: 0.0073068 Mean Loss: 0.0073069 Val Loss: 0.0126228\n",
      "Epoch 148/200\n",
      " Batch 2/2   Results for Batch: Best Loss: 0.0073068 Mean Loss: 0.0073069 Val Loss: 0.0126228\n",
      "Epoch 149/200\n",
      " Batch 2/2   Results for Batch: Best Loss: 0.0073068 Mean Loss: 0.0073068 Val Loss: 0.0126228\n",
      "Epoch 150/200\n",
      " Batch 2/2   Results for Batch: Best Loss: 0.0073068 Mean Loss: 0.0073068 Val Loss: 0.0126228\n",
      "Epoch 151/200\n",
      " Batch 2/2   Results for Batch: Best Loss: 0.0073068 Mean Loss: 0.0073068 Val Loss: 0.0126228\n",
      "Epoch 152/200\n",
      " Batch 2/2   Results for Batch: Best Loss: 0.0073068 Mean Loss: 0.0073422 Val Loss: 0.0126317\n",
      "Epoch 153/200\n",
      " Batch 2/2   Results for Batch: Best Loss: 0.0072607 Mean Loss: 0.007305 Val Loss: 0.01261975\n",
      "Epoch 154/200\n",
      " Batch 2/2   Results for Batch: Best Loss: 0.0072932 Mean Loss: 0.0073053 Val Loss: 0.0126204\n",
      "Epoch 155/200\n",
      " Batch 2/2   Results for Batch: Best Loss: 0.0073005 Mean Loss: 0.0073053 Val Loss: 0.0126203\n",
      "Epoch 156/200\n"
     ]
    },
    {
     "name": "stdout",
     "output_type": "stream",
     "text": [
      " Batch 2/2   Results for Batch: Best Loss: 0.0073027 Mean Loss: 0.0073302 Val Loss: 0.0126519\n",
      "Epoch 157/200\n",
      " Batch 2/2   Results for Batch: Best Loss: 0.0073031 Mean Loss: 0.0073042 Val Loss: 0.0126187\n",
      "Epoch 158/200\n",
      " Batch 2/2   Results for Batch: Best Loss: 0.0073036 Mean Loss: 0.0073041 Val Loss: 0.0126184\n",
      "Epoch 159/200\n",
      " Batch 2/2   Results for Batch: Best Loss: 0.0073038 Mean Loss: 0.0073041 Val Loss: 0.0126184\n",
      "Epoch 160/200\n",
      " Batch 2/2   Results for Batch: Best Loss: 0.0073039 Mean Loss: 0.0073041 Val Loss: 0.0126184\n",
      "Epoch 161/200\n",
      " Batch 2/2   Results for Batch: Best Loss: 0.007304 Mean Loss: 0.0073041 Val Loss: 0.01261844\n",
      "Epoch 162/200\n",
      " Batch 2/2   Results for Batch: Best Loss: 0.0073041 Mean Loss: 0.0073041 Val Loss: 0.0126184\n",
      "Epoch 163/200\n",
      " Batch 2/2   Results for Batch: Best Loss: 0.0073041 Mean Loss: 0.0073041 Val Loss: 0.0126184\n",
      "Epoch 164/200\n",
      " Batch 2/2   Results for Batch: Best Loss: 0.0073041 Mean Loss: 0.0073041 Val Loss: 0.0126184\n",
      "Epoch 165/200\n",
      " Batch 2/2   Results for Batch: Best Loss: 0.0073041 Mean Loss: 0.0073041 Val Loss: 0.0126184\n",
      "Epoch 166/200\n",
      " Batch 2/2   Results for Batch: Best Loss: 0.0073041 Mean Loss: 0.0073041 Val Loss: 0.0126184\n",
      "Epoch 167/200\n",
      " Batch 2/2   Results for Batch: Best Loss: 0.0073041 Mean Loss: 0.0073041 Val Loss: 0.0126184\n",
      "Epoch 168/200\n",
      " Batch 2/2   Results for Batch: Best Loss: 0.0073041 Mean Loss: 0.0073041 Val Loss: 0.0126184\n",
      "Epoch 169/200\n",
      " Batch 2/2   Results for Batch: Best Loss: 0.0073041 Mean Loss: 0.0073041 Val Loss: 0.0126184\n",
      "Epoch 170/200\n",
      " Batch 2/2   Results for Batch: Best Loss: 0.0073041 Mean Loss: 0.0073041 Val Loss: 0.0126184\n",
      "Epoch 171/200\n",
      " Batch 2/2   Results for Batch: Best Loss: 0.0073041 Mean Loss: 0.007325 Val Loss: 0.01264214\n",
      "Epoch 172/200\n",
      " Batch 2/2   Results for Batch: Best Loss: 0.0073041 Mean Loss: 0.007341 Val Loss: 0.01264719\n",
      "Epoch 173/200\n",
      " Batch 2/2   Results for Batch: Best Loss: 0.0073041 Mean Loss: 0.0073041 Val Loss: 0.0126184\n",
      "Epoch 174/200\n",
      " Batch 2/2   Results for Batch: Best Loss: 0.0073041 Mean Loss: 0.0073041 Val Loss: 0.0126184\n",
      "Epoch 175/200\n",
      " Batch 2/2   Results for Batch: Best Loss: 0.0073041 Mean Loss: 0.0073041 Val Loss: 0.0126184\n",
      "Epoch 176/200\n",
      " Batch 2/2   Results for Batch: Best Loss: 0.0073041 Mean Loss: 0.0073193 Val Loss: 0.0126069\n",
      "Epoch 177/200\n",
      " Batch 2/2   Results for Batch: Best Loss: 0.0073041 Mean Loss: 0.0073041 Val Loss: 0.0126184\n",
      "Epoch 178/200\n",
      " Batch 2/2   Results for Batch: Best Loss: 0.0073041 Mean Loss: 0.0073041 Val Loss: 0.0126184\n",
      "Epoch 179/200\n",
      " Batch 2/2   Results for Batch: Best Loss: 0.0073041 Mean Loss: 0.0073041 Val Loss: 0.0126184\n",
      "Epoch 180/200\n",
      " Batch 2/2   Results for Batch: Best Loss: 0.0073041 Mean Loss: 0.0073041 Val Loss: 0.0126184\n",
      "Epoch 181/200\n",
      " Batch 2/2   Results for Batch: Best Loss: 0.0073041 Mean Loss: 0.0073041 Val Loss: 0.0126184\n",
      "Epoch 182/200\n",
      " Batch 2/2   Results for Batch: Best Loss: 0.0073041 Mean Loss: 0.0073041 Val Loss: 0.0126184\n",
      "Epoch 183/200\n",
      " Batch 2/2   Results for Batch: Best Loss: 0.0073041 Mean Loss: 0.0073041 Val Loss: 0.0126184\n",
      "Epoch 184/200\n",
      " Batch 2/2   Results for Batch: Best Loss: 0.0073041 Mean Loss: 0.0073041 Val Loss: 0.0126184\n",
      "Epoch 185/200\n",
      " Batch 2/2   Results for Batch: Best Loss: 0.0071897 Mean Loss: 0.0072995 Val Loss: 0.0126167\n",
      "Epoch 186/200\n",
      " Batch 2/2   Results for Batch: Best Loss: 0.0073041 Mean Loss: 0.0073041 Val Loss: 0.0126184\n",
      "Epoch 187/200\n",
      " Batch 2/2   Results for Batch: Best Loss: 0.0073041 Mean Loss: 0.0073041 Val Loss: 0.0126184\n",
      "Epoch 188/200\n",
      " Batch 2/2   Results for Batch: Best Loss: 0.0073041 Mean Loss: 0.0073041 Val Loss: 0.0126184\n",
      "Epoch 189/200\n",
      " Batch 2/2   Results for Batch: Best Loss: 0.0073041 Mean Loss: 0.0073041 Val Loss: 0.0126184\n",
      "Epoch 190/200\n",
      " Batch 2/2   Results for Batch: Best Loss: 0.0073041 Mean Loss: 0.0073041 Val Loss: 0.0126184\n",
      "Epoch 191/200\n",
      " Batch 2/2   Results for Batch: Best Loss: 0.0073041 Mean Loss: 0.0073041 Val Loss: 0.0126184\n",
      "Epoch 192/200\n",
      " Batch 2/2   Results for Batch: Best Loss: 0.0073041 Mean Loss: 0.0073041 Val Loss: 0.0126184\n",
      "Epoch 193/200\n",
      " Batch 2/2   Results for Batch: Best Loss: 0.0073041 Mean Loss: 0.0073041 Val Loss: 0.0126184\n",
      "Epoch 194/200\n",
      " Batch 2/2   Results for Batch: Best Loss: 0.0073041 Mean Loss: 0.0073041 Val Loss: 0.0126184\n",
      "Epoch 195/200\n",
      " Batch 2/2   Results for Batch: Best Loss: 0.0073041 Mean Loss: 0.0073041 Val Loss: 0.0126184\n",
      "Epoch 196/200\n",
      " Batch 2/2   Results for Batch: Best Loss: 0.0073041 Mean Loss: 0.0073041 Val Loss: 0.0126184\n",
      "Epoch 197/200\n",
      " Batch 2/2   Results for Batch: Best Loss: 0.0073041 Mean Loss: 0.0073041 Val Loss: 0.0126184\n",
      "Epoch 198/200\n",
      " Batch 2/2   Results for Batch: Best Loss: 0.0073041 Mean Loss: 0.0073041 Val Loss: 0.0126184\n",
      "Epoch 199/200\n",
      " Batch 2/2   Results for Batch: Best Loss: 0.0073041 Mean Loss: 0.0073041 Val Loss: 0.0126184\n",
      "Epoch 200/200\n",
      " Batch 2/2   Results for Batch: Best Loss: 0.0073041 Mean Loss: 0.0073041 Val Loss: 0.0126184\n"
     ]
    }
   ],
   "source": [
    "model2.evolve(max_epoch=200, batch_size=50, train_data=[x[train_ind], y[train_ind]], val_data=[x[val_ind], y[val_ind]],\n",
    "             early_stopping=True, verbose=True,\n",
    "             warm_start=False, algorithm='generic', patience=15)"
   ]
  },
  {
   "cell_type": "code",
   "execution_count": 20,
   "id": "6b73aea7",
   "metadata": {},
   "outputs": [
    {
     "data": {
      "image/png": "[encoded data removed]",
      "text/plain": [
       "<Figure size 432x288 with 1 Axes>"
      ]
     },
     "metadata": {
      "needs_background": "light"
     },
     "output_type": "display_data"
    },
    {
     "data": {
      "image/png": "[encoded data removed]",
      "text/plain": [
       "<Figure size 432x288 with 1 Axes>"
      ]
     },
     "metadata": {
      "needs_background": "light"
     },
     "output_type": "display_data"
    }
   ],
   "source": [
    "model2.plot(starting_gen=25)\n",
    "model2.plot(starting_gen=100)"
   ]
  },
  {
   "cell_type": "markdown",
   "id": "9277e27a",
   "metadata": {},
   "source": [
    "# Self-Adaptive Algorithm"
   ]
  },
  {
   "cell_type": "code",
   "execution_count": 9,
   "id": "b921b491",
   "metadata": {},
   "outputs": [],
   "source": [
    "model3 = ne.NeuroRegressor(layer_nodes=layer_nodes, num_input=num_input, num_output=num_output,\n",
    "                         population_size=population_size, activation_function='relu')"
   ]
  },
  {
   "cell_type": "code",
   "execution_count": 10,
   "id": "03ddad63",
   "metadata": {},
   "outputs": [
    {
     "name": "stdout",
     "output_type": "stream",
     "text": [
      "Number of Trainable Parameters Per Network: 5501\n",
      "Epoch 1/200\n",
      " Batch 2/2   Results for Batch: Best Loss: 0.1080925 Mean Loss: 0.1470072 Val Loss: 0.1468027\n",
      "Epoch 2/200\n",
      " Batch 2/2   Results for Batch: Best Loss: 0.0774403 Mean Loss: 0.0965906 Val Loss: 0.0948864\n",
      "Epoch 3/200\n",
      " Batch 2/2   Results for Batch: Best Loss: 0.0607185 Mean Loss: 0.0736672 Val Loss: 0.0707402\n",
      "Epoch 4/200\n",
      " Batch 2/2   Results for Batch: Best Loss: 0.0470019 Mean Loss: 0.0577161 Val Loss: 0.0539319\n",
      "Epoch 5/200\n",
      " Batch 2/2   Results for Batch: Best Loss: 0.0363018 Mean Loss: 0.0457393 Val Loss: 0.0409855\n",
      "Epoch 6/200\n",
      " Batch 2/2   Results for Batch: Best Loss: 0.0310718 Mean Loss: 0.0372077 Val Loss: 0.0340961\n",
      "Epoch 7/200\n",
      " Batch 2/2   Results for Batch: Best Loss: 0.0259154 Mean Loss: 0.0309983 Val Loss: 0.028252\n",
      "Epoch 8/200\n",
      " Batch 2/2   Results for Batch: Best Loss: 0.0205426 Mean Loss: 0.025262 Val Loss: 0.0227621\n",
      "Epoch 9/200\n",
      " Batch 2/2   Results for Batch: Best Loss: 0.0173806 Mean Loss: 0.0214134 Val Loss: 0.0190324\n",
      "Epoch 10/200\n",
      " Batch 2/2   Results for Batch: Best Loss: 0.0150567 Mean Loss: 0.0182661 Val Loss: 0.0163535\n",
      "Epoch 11/200\n",
      " Batch 2/2   Results for Batch: Best Loss: 0.0138046 Mean Loss: 0.0162184 Val Loss: 0.0148687\n",
      "Epoch 12/200\n",
      " Batch 2/2   Results for Batch: Best Loss: 0.0113251 Mean Loss: 0.014523 Val Loss: 0.01331237\n",
      "Epoch 13/200\n",
      " Batch 2/2   Results for Batch: Best Loss: 0.0109678 Mean Loss: 0.0135093 Val Loss: 0.0127797\n",
      "Epoch 14/200\n",
      " Batch 2/2   Results for Batch: Best Loss: 0.0105521 Mean Loss: 0.012586 Val Loss: 0.01269062\n",
      "Epoch 15/200\n",
      " Batch 2/2   Results for Batch: Best Loss: 0.0105521 Mean Loss: 0.0119866 Val Loss: 0.0129492\n",
      "Epoch 16/200\n",
      " Batch 2/2   Results for Batch: Best Loss: 0.0102083 Mean Loss: 0.0117814 Val Loss: 0.0127132\n",
      "Epoch 17/200\n",
      " Batch 2/2   Results for Batch: Best Loss: 0.0097963 Mean Loss: 0.0113958 Val Loss: 0.0122882\n",
      "Epoch 18/200\n",
      " Batch 2/2   Results for Batch: Best Loss: 0.0094082 Mean Loss: 0.0110397 Val Loss: 0.0121922\n",
      "Epoch 19/200\n",
      " Batch 2/2   Results for Batch: Best Loss: 0.0094082 Mean Loss: 0.0107554 Val Loss: 0.0117491\n",
      "Epoch 20/200\n",
      " Batch 2/2   Results for Batch: Best Loss: 0.0094082 Mean Loss: 0.0108637 Val Loss: 0.0116388\n",
      "Epoch 21/200\n",
      " Batch 2/2   Results for Batch: Best Loss: 0.0093512 Mean Loss: 0.0108222 Val Loss: 0.0116498\n",
      "Epoch 22/200\n",
      " Batch 2/2   Results for Batch: Best Loss: 0.0093512 Mean Loss: 0.010346 Val Loss: 0.01140162\n",
      "Epoch 23/200\n",
      " Batch 2/2   Results for Batch: Best Loss: 0.009162 Mean Loss: 0.0101942 Val Loss: 0.01095445\n",
      "Epoch 24/200\n",
      " Batch 2/2   Results for Batch: Best Loss: 0.0088254 Mean Loss: 0.0101215 Val Loss: 0.0111511\n",
      "Epoch 25/200\n",
      " Batch 2/2   Results for Batch: Best Loss: 0.008797 Mean Loss: 0.0098894 Val Loss: 0.01084558\n",
      "Epoch 26/200\n",
      " Batch 2/2   Results for Batch: Best Loss: 0.0087747 Mean Loss: 0.0097461 Val Loss: 0.0107849\n",
      "Epoch 27/200\n",
      " Batch 2/2   Results for Batch: Best Loss: 0.008797 Mean Loss: 0.0097183 Val Loss: 0.01043324\n",
      "Epoch 28/200\n",
      " Batch 2/2   Results for Batch: Best Loss: 0.008797 Mean Loss: 0.0094998 Val Loss: 0.01061608\n",
      "Epoch 29/200\n",
      " Batch 2/2   Results for Batch: Best Loss: 0.0081155 Mean Loss: 0.0094582 Val Loss: 0.0103984\n",
      "Epoch 30/200\n",
      " Batch 2/2   Results for Batch: Best Loss: 0.0081155 Mean Loss: 0.0094446 Val Loss: 0.0104843\n",
      "Epoch 31/200\n",
      " Batch 2/2   Results for Batch: Best Loss: 0.0081155 Mean Loss: 0.0093972 Val Loss: 0.0104487\n",
      "Epoch 32/200\n",
      " Batch 2/2   Results for Batch: Best Loss: 0.0081155 Mean Loss: 0.009394 Val Loss: 0.0104641\n",
      "Epoch 33/200\n",
      " Batch 2/2   Results for Batch: Best Loss: 0.0081155 Mean Loss: 0.0092488 Val Loss: 0.0103211\n",
      "Epoch 34/200\n",
      " Batch 2/2   Results for Batch: Best Loss: 0.0081155 Mean Loss: 0.0094349 Val Loss: 0.0104913\n",
      "Epoch 35/200\n",
      " Batch 2/2   Results for Batch: Best Loss: 0.0081155 Mean Loss: 0.0090514 Val Loss: 0.0102255\n",
      "Epoch 36/200\n",
      " Batch 2/2   Results for Batch: Best Loss: 0.0082976 Mean Loss: 0.0092634 Val Loss: 0.0104137\n",
      "Epoch 37/200\n",
      " Batch 2/2   Results for Batch: Best Loss: 0.0082976 Mean Loss: 0.0089985 Val Loss: 0.0103172\n",
      "Epoch 38/200\n",
      " Batch 2/2   Results for Batch: Best Loss: 0.0082976 Mean Loss: 0.0089146 Val Loss: 0.0102402\n",
      "Epoch 39/200\n",
      " Batch 2/2   Results for Batch: Best Loss: 0.0082976 Mean Loss: 0.0088826 Val Loss: 0.0103906\n",
      "Epoch 40/200\n",
      " Batch 2/2   Results for Batch: Best Loss: 0.0079716 Mean Loss: 0.0090887 Val Loss: 0.0105535\n",
      "Epoch 41/200\n",
      " Batch 2/2   Results for Batch: Best Loss: 0.0079716 Mean Loss: 0.0089735 Val Loss: 0.0104017\n",
      "Epoch 42/200\n",
      " Batch 2/2   Results for Batch: Best Loss: 0.008161 Mean Loss: 0.0089946 Val Loss: 0.01040695\n",
      "Epoch 43/200\n",
      " Batch 2/2   Results for Batch: Best Loss: 0.008161 Mean Loss: 0.0087491 Val Loss: 0.01027392\n",
      "Epoch 44/200\n",
      " Batch 2/2   Results for Batch: Best Loss: 0.008161 Mean Loss: 0.0088096 Val Loss: 0.01040205\n",
      "Epoch 45/200\n",
      " Batch 2/2   Results for Batch: Best Loss: 0.008161 Mean Loss: 0.0087466 Val Loss: 0.01040231\n",
      "Epoch 46/200\n",
      " Batch 2/2   Results for Batch: Best Loss: 0.008161 Mean Loss: 0.0087543 Val Loss: 0.01039622\n",
      "Epoch 47/200\n",
      " Batch 2/2   Results for Batch: Best Loss: 0.0080601 Mean Loss: 0.008629 Val Loss: 0.01025515\n",
      "Epoch 48/200\n",
      " Batch 2/2   Results for Batch: Best Loss: 0.0080601 Mean Loss: 0.0086028 Val Loss: 0.0103202\n",
      "Epoch 49/200\n",
      " Batch 2/2   Results for Batch: Best Loss: 0.0080601 Mean Loss: 0.0087266 Val Loss: 0.0103541\n",
      "Epoch 50/200\n",
      " Batch 2/2   Results for Batch: Best Loss: 0.0080601 Mean Loss: 0.0085981 Val Loss: 0.0103753\n",
      "Epoch 51/200\n",
      " Batch 2/2   Results for Batch: Best Loss: 0.0080601 Mean Loss: 0.0086458 Val Loss: 0.0103317\n",
      "Epoch 52/200\n",
      " Batch 2/2   Results for Batch: Best Loss: 0.0080601 Mean Loss: 0.0086793 Val Loss: 0.0104395\n",
      "Epoch 53/200\n",
      " Batch 2/2   Results for Batch: Best Loss: 0.0080601 Mean Loss: 0.008582 Val Loss: 0.01029085\n",
      "Epoch 54/200\n",
      " Batch 2/2   Results for Batch: Best Loss: 0.0080601 Mean Loss: 0.0085983 Val Loss: 0.0103611\n",
      "Epoch 55/200\n",
      " Batch 2/2   Results for Batch: Best Loss: 0.0080601 Mean Loss: 0.0085151 Val Loss: 0.0103651\n",
      "Epoch 56/200\n",
      " Batch 2/2   Results for Batch: Best Loss: 0.0080601 Mean Loss: 0.0085416 Val Loss: 0.0104009\n",
      "Epoch 57/200\n",
      " Batch 2/2   Results for Batch: Best Loss: 0.0080601 Mean Loss: 0.0084456 Val Loss: 0.0104064\n",
      "Epoch 58/200\n",
      " Batch 2/2   Results for Batch: Best Loss: 0.0080601 Mean Loss: 0.0084778 Val Loss: 0.0105215\n",
      "Epoch 59/200\n",
      " Batch 2/2   Results for Batch: Best Loss: 0.0080601 Mean Loss: 0.0084881 Val Loss: 0.0104786\n",
      "Epoch 60/200\n",
      " Batch 2/2   Results for Batch: Best Loss: 0.0080601 Mean Loss: 0.0085421 Val Loss: 0.0105392\n",
      "Epoch 61/200\n",
      " Batch 2/2   Results for Batch: Best Loss: 0.0080601 Mean Loss: 0.0084986 Val Loss: 0.0105294\n",
      "Epoch 62/200\n",
      " Batch 2/2   Results for Batch: Best Loss: 0.0080601 Mean Loss: 0.0084983 Val Loss: 0.0104505\n",
      "Epoch 63/200\n",
      " Batch 2/2   Results for Batch: Best Loss: 0.0080601 Mean Loss: 0.0085314 Val Loss: 0.0106446\n",
      "Ending Evolution: Over Fitting\n"
     ]
    }
   ],
   "source": [
    "model3.evolve(max_epoch=200, batch_size=50, train_data=[x[train_ind], y[train_ind]], val_data=[x[val_ind], y[val_ind]],\n",
    "             early_stopping=True, verbose=True,\n",
    "             warm_start=False, algorithm='self-adaptive', patience=15)"
   ]
  },
  {
   "cell_type": "code",
   "execution_count": 17,
   "id": "b6054752",
   "metadata": {},
   "outputs": [
    {
     "data": {
      "image/png": "[encoded data removed]",
      "text/plain": [
       "<Figure size 432x288 with 1 Axes>"
      ]
     },
     "metadata": {
      "needs_background": "light"
     },
     "output_type": "display_data"
    },
    {
     "data": {
      "image/png": "[encoded data removed]",
      "text/plain": [
       "<Figure size 432x288 with 1 Axes>"
      ]
     },
     "metadata": {
      "needs_background": "light"
     },
     "output_type": "display_data"
    }
   ],
   "source": [
    "model3.plot(0)\n",
    "model3.plot(starting_gen=25)"
   ]
  },
  {
   "cell_type": "markdown",
   "id": "8dc20c7b",
   "metadata": {},
   "source": [
    "# Comparing Models\n",
    "We will compare by use of $R^2$ score through the validation data"
   ]
  },
  {
   "cell_type": "code",
   "execution_count": 13,
   "id": "6038c926",
   "metadata": {},
   "outputs": [],
   "source": [
    "from sklearn.metrics import r2_score"
   ]
  },
  {
   "cell_type": "code",
   "execution_count": 27,
   "id": "ce9d24a3",
   "metadata": {},
   "outputs": [
    {
     "name": "stdout",
     "output_type": "stream",
     "text": [
      "Greedy: 0.8130943259061122, Generic: 0.8073282671156319, Self-Adaptive: 0.8399098483179746\n"
     ]
    }
   ],
   "source": [
    "r1 = r2_score(y[val_ind], model1.predict(x[val_ind]))\n",
    "r2 = r2_score(y[val_ind], model2.prcallback = [EarlyStopping(monitor='loss', patience=10), EarlyStopping(monitor='val_loss', patience=10)]edict(x[val_ind]))\n",
    "r3 = r2_score(y[val_ind], model3.predict(x[val_ind]))\n",
    "print(\"Greedy: {}, Generic: {}, Self-Adaptive: {}\".format(r1, r2, r3))"
   ]
  },
  {
   "cell_type": "markdown",
   "id": "6a6c9198",
   "metadata": {},
   "source": [
    "As we can see, all models performed relatively well, achieving $R^2$ values above $0.80$, meaning that they explain over $80$% of the variability of the target variables. However, we can see that the `self-adaptive` yeilded the best result, so we will use it as the final model"
   ]
  },
  {
   "cell_type": "markdown",
   "id": "55461016",
   "metadata": {},
   "source": [
    "# Testing Final Model"
   ]
  },
  {
   "cell_type": "code",
   "execution_count": 28,
   "id": "29fc2964",
   "metadata": {},
   "outputs": [
    {
     "data": {
      "text/plain": [
       "0.8525659135558559"
      ]
     },
     "execution_count": 28,
     "metadata": {},
     "output_type": "execute_result"
    }
   ],
   "source": [
    "r3 = r2_score(y[test_ind], model3.predict(x[test_ind]))\n",
    "r3"
   ]
  },
  {
   "cell_type": "markdown",
   "id": "a196ce41",
   "metadata": {},
   "source": [
    "As we can see, from the test data our final model performs extremely well, explaining $85$% of the variability of the data. "
   ]
  },
  {
   "cell_type": "markdown",
   "id": "8c19da2e",
   "metadata": {},
   "source": [
    "# Predicted Values in Original Form"
   ]
  },
  {
   "cell_type": "code",
   "execution_count": 29,
   "id": "767a3a66",
   "metadata": {},
   "outputs": [
    {
     "data": {
      "text/plain": [
       "array([[6.23310833, 5.26505621],\n",
       "       [6.11151266, 4.37423557],\n",
       "       [6.67549179, 5.79414302],\n",
       "       [4.99219642, 1.33697465],\n",
       "       [5.80812026, 4.15476491]])"
      ]
     },
     "execution_count": 29,
     "metadata": {},
     "output_type": "execute_result"
    }
   ],
   "source": [
    "# convert back into original form\n",
    "(model3.predict(x[test_ind])*(mx[[0,2]]-mn[[0,2]])+mn[[0,2]])[0:5]"
   ]
  },
  {
   "cell_type": "markdown",
   "id": "9dc33f5d",
   "metadata": {},
   "source": [
    "# Actual Values in Original Form"
   ]
  },
  {
   "cell_type": "code",
   "execution_count": 30,
   "id": "1d607fd6",
   "metadata": {
    "scrolled": false
   },
   "outputs": [
    {
     "data": {
      "text/plain": [
       "array([[6.7, 5.8],\n",
       "       [5.6, 4.1],\n",
       "       [7.7, 6.1],\n",
       "       [4.8, 1.6],\n",
       "       [6.3, 4.9]])"
      ]
     },
     "execution_count": 30,
     "metadata": {},
     "output_type": "execute_result"
    }
   ],
   "source": [
    "(y[test_ind]*(mx[[0,2]]-mn[[0,2]])+mn[[0,2]])[0:5]"
   ]
  },
  {
   "cell_type": "markdown",
   "id": "8257265d",
   "metadata": {},
   "source": [
    "# Compare Against Same Model Trained Through Numerical Methods"
   ]
  },
  {
   "cell_type": "code",
   "execution_count": 9,
   "id": "74376c70",
   "metadata": {},
   "outputs": [],
   "source": [
    "import tensorflow as tf\n",
    "from tensorflow.keras import layers\n",
    "from tensorflow.keras.callbacks import EarlyStopping"
   ]
  },
  {
   "cell_type": "code",
   "execution_count": 21,
   "id": "ea186a59",
   "metadata": {},
   "outputs": [],
   "source": [
    "inputs = tf.keras.Input(shape=(num_input,))\n",
    "m = layers.Dense(50, activation='relu')(inputs)\n",
    "m = layers.Dense(50, activation='relu')(m)\n",
    "m = layers.Dense(50, activation='relu')(m)\n",
    "outputs = layers.Dense(num_output, activation='relu')(m)\n",
    "model = tf.keras.Model(inputs, outputs)\n",
    "model.compile(optimizer='adam', loss='mean_squared_error')"
   ]
  },
  {
   "cell_type": "code",
   "execution_count": 22,
   "id": "3a57e712",
   "metadata": {},
   "outputs": [
    {
     "name": "stdout",
     "output_type": "stream",
     "text": [
      "Model: \"model_1\"\n",
      "_________________________________________________________________\n",
      "Layer (type)                 Output Shape              Param #   \n",
      "=================================================================\n",
      "input_2 (InputLayer)         [(None, 5)]               0         \n",
      "_________________________________________________________________\n",
      "dense_4 (Dense)              (None, 50)                300       \n",
      "_________________________________________________________________\n",
      "dense_5 (Dense)              (None, 50)                2550      \n",
      "_________________________________________________________________\n",
      "dense_6 (Dense)              (None, 50)                2550      \n",
      "_________________________________________________________________\n",
      "dense_7 (Dense)              (None, 2)                 102       \n",
      "=================================================================\n",
      "Total params: 5,502\n",
      "Trainable params: 5,502\n",
      "Non-trainable params: 0\n",
      "_________________________________________________________________\n"
     ]
    }
   ],
   "source": [
    "model.summary()"
   ]
  },
  {
   "cell_type": "code",
   "execution_count": 23,
   "id": "be9e2df9",
   "metadata": {},
   "outputs": [
    {
     "name": "stdout",
     "output_type": "stream",
     "text": [
      "Epoch 1/500\n",
      "3/3 [==============================] - 1s 115ms/step - loss: 0.2404 - val_loss: 0.2147\n",
      "Epoch 2/500\n",
      "3/3 [==============================] - 0s 21ms/step - loss: 0.1666 - val_loss: 0.1391\n",
      "Epoch 3/500\n",
      "3/3 [==============================] - 0s 22ms/step - loss: 0.0990 - val_loss: 0.0823\n",
      "Epoch 4/500\n",
      "3/3 [==============================] - 0s 20ms/step - loss: 0.0548 - val_loss: 0.0457\n",
      "Epoch 5/500\n",
      "3/3 [==============================] - 0s 20ms/step - loss: 0.0276 - val_loss: 0.0283\n",
      "Epoch 6/500\n",
      "3/3 [==============================] - 0s 19ms/step - loss: 0.0205 - val_loss: 0.0212\n",
      "Epoch 7/500\n",
      "3/3 [==============================] - 0s 19ms/step - loss: 0.0189 - val_loss: 0.0164\n",
      "Epoch 8/500\n",
      "3/3 [==============================] - 0s 15ms/step - loss: 0.0171 - val_loss: 0.0116\n",
      "Epoch 9/500\n",
      "3/3 [==============================] - 0s 16ms/step - loss: 0.0140 - val_loss: 0.0096\n",
      "Epoch 10/500\n",
      "3/3 [==============================] - 0s 15ms/step - loss: 0.0120 - val_loss: 0.0109\n",
      "Epoch 11/500\n",
      "3/3 [==============================] - 0s 16ms/step - loss: 0.0115 - val_loss: 0.0131\n",
      "Epoch 12/500\n",
      "3/3 [==============================] - 0s 18ms/step - loss: 0.0123 - val_loss: 0.0148\n",
      "Epoch 13/500\n",
      "3/3 [==============================] - 0s 16ms/step - loss: 0.0121 - val_loss: 0.0151\n",
      "Epoch 14/500\n",
      "3/3 [==============================] - 0s 18ms/step - loss: 0.0117 - val_loss: 0.0143\n",
      "Epoch 15/500\n",
      "3/3 [==============================] - 0s 19ms/step - loss: 0.0112 - val_loss: 0.0130\n",
      "Epoch 16/500\n",
      "3/3 [==============================] - 0s 16ms/step - loss: 0.0105 - val_loss: 0.0116\n",
      "Epoch 17/500\n",
      "3/3 [==============================] - 0s 21ms/step - loss: 0.0100 - val_loss: 0.0108\n",
      "Epoch 18/500\n",
      "3/3 [==============================] - 0s 19ms/step - loss: 0.0099 - val_loss: 0.0107\n",
      "Epoch 19/500\n",
      "3/3 [==============================] - 0s 19ms/step - loss: 0.0098 - val_loss: 0.0109\n"
     ]
    }
   ],
   "source": [
    "callback = [EarlyStopping(monitor='loss', patience=10), EarlyStopping(monitor='val_loss', patience=10)]\n",
    "history = model.fit(x[train_ind], y[train_ind], epochs=500, validation_data=(x[val_ind], y[val_ind]), \n",
    "          callbacks=callback)"
   ]
  },
  {
   "cell_type": "code",
   "execution_count": 27,
   "id": "38c00d04",
   "metadata": {},
   "outputs": [
    {
     "data": {
      "text/plain": [
       "0.8571640308660942"
      ]
     },
     "execution_count": 27,
     "metadata": {},
     "output_type": "execute_result"
    }
   ],
   "source": [
    "r2_score(y[val_ind], model.predict(x[val_ind]))"
   ]
  },
  {
   "cell_type": "markdown",
   "id": "4bb0d078",
   "metadata": {},
   "source": [
    "As we can see, the Keras model with the same architecture achieved a higher $R^2$ value for the validation set than the best model by $2$%, revealing that the numerical method optimizer performed better for this regression test."
   ]
  }
 ],
 "metadata": {
  "kernelspec": {
   "display_name": "Python 3 (ipykernel)",
   "language": "python",
   "name": "python3"
  },
  "language_info": {
   "codemirror_mode": {
    "name": "ipython",
    "version": 3
   },
   "file_extension": ".py",
   "mimetype": "text/x-python",
   "name": "python",
   "nbconvert_exporter": "python",
   "pygments_lexer": "ipython3",
   "version": "3.9.1"
  }
 },
 "nbformat": 4,
 "nbformat_minor": 5
}
